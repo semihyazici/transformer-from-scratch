{
 "cells": [
  {
   "cell_type": "code",
   "execution_count": 1,
   "metadata": {},
   "outputs": [],
   "source": [
    "from modules.Transformer import get_model\n",
    "from modules.config import TransformerConfig\n",
    "from transformers import AutoTokenizer\n",
    "\n",
    "import torch\n",
    "import torch.nn as nn\n",
    "from torch.utils.data import DataLoader\n",
    "import math\n",
    "from tqdm import tqdm,trange\n",
    "\n",
    "import os\n",
    "\n",
    "device = 'cpu'"
   ]
  },
  {
   "cell_type": "code",
   "execution_count": 2,
   "metadata": {},
   "outputs": [],
   "source": [
    "config = TransformerConfig()\n",
    "from train import train\n",
    "from generate import greedy_decoding"
   ]
  },
  {
   "cell_type": "code",
   "execution_count": 3,
   "metadata": {},
   "outputs": [],
   "source": [
    "tokenizer_src = AutoTokenizer.from_pretrained(\"bert-base-cased\")\n",
    "tokenizer_tgt = AutoTokenizer.from_pretrained(\"dbmdz/bert-base-turkish-cased\")\n",
    "path = \"\" #put here model pth file\n",
    "model = get_model(device=device,config=config,vocab_size_src=tokenizer_src.vocab_size,\n",
    "                 vocab_size_tgt=tokenizer_tgt.vocab_size,path=)"
   ]
  },
  {
   "cell_type": "code",
   "execution_count": 6,
   "metadata": {},
   "outputs": [],
   "source": [
    "sent = \"\" ## sentence here\n",
    "outs = greedy_decoding(model=model,max_seq_length=256,\n",
    "                       sent=sent,tokenizer_src=tokenizer_src,tokenizer_tgt=tokenizer_tgt,)"
   ]
  },
  {
   "cell_type": "code",
   "execution_count": null,
   "metadata": {},
   "outputs": [],
   "source": [
    "train(tokenizer_src_path=\"dbmdz/bert-base-turkish-cased\",tokenizer_tgt_path=\"bert-base-cased\", dataloader=dataloader,save_path=\"anan.pth\")"
   ]
  }
 ],
 "metadata": {
  "kernelspec": {
   "display_name": "base",
   "language": "python",
   "name": "python3"
  },
  "language_info": {
   "codemirror_mode": {
    "name": "ipython",
    "version": 3
   },
   "file_extension": ".py",
   "mimetype": "text/x-python",
   "name": "python",
   "nbconvert_exporter": "python",
   "pygments_lexer": "ipython3",
   "version": "3.11.4"
  }
 },
 "nbformat": 4,
 "nbformat_minor": 2
}
